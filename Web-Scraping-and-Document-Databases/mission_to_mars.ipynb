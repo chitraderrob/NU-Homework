{
 "cells": [
  {
   "cell_type": "code",
   "execution_count": 1,
   "metadata": {},
   "outputs": [],
   "source": [
    "from splinter import Browser\n",
    "from bs4 import BeautifulSoup as bs\n",
    "import requests\n",
    "import time\n",
    "import pandas as pd\n",
    "from pprint import pprint"
   ]
  },
  {
   "cell_type": "code",
   "execution_count": 2,
   "metadata": {},
   "outputs": [],
   "source": [
    "# Define function to initialize browser\n",
    "def init_browser():\n",
    "    \n",
    "    executable_path = {\"executable_path\":\"C:\\Program Files\\chromedriver.exe\"}\n",
    "    return Browser(\"chrome\", **executable_path, headless = False)"
   ]
  },
  {
   "cell_type": "markdown",
   "metadata": {},
   "source": [
    "# NASA Mars News"
   ]
  },
  {
   "cell_type": "code",
   "execution_count": 5,
   "metadata": {},
   "outputs": [],
   "source": [
    "# Define function to scrape Mars news\n",
    "def mars_news():\n",
    "    browser = init_browser()\n",
    "    \n",
    "#Visit URL\n",
    "    url = \"https://mars.nasa.gov/news/\"\n",
    "    browser.visit(url)\n",
    "\n",
    "# Scrape page into soup\n",
    "    html = browser.html\n",
    "    soup = bs(html,\"html.parser\")\n",
    "\n",
    "# Find news title and paragraph\n",
    "    mars_title = soup.find(\"div\",class_=\"content_title\").text\n",
    "    mars_paragraph  = soup.find(\"div\", class_=\"article_teaser_body\").text\n",
    "    \n",
    "#Create an empty news list and append news dict\n",
    "    news=[]\n",
    "    news_dict={'Title': mars_title,\n",
    "              'Description': mars_paragraph\n",
    "              }\n",
    "    news.append(news_dict)\n",
    "    \n",
    "    browser.quit()\n",
    "    \n",
    "    return news\n",
    "    "
   ]
  },
  {
   "cell_type": "code",
   "execution_count": 6,
   "metadata": {},
   "outputs": [
    {
     "data": {
      "text/plain": [
       "[{'Title': 'Mars 2020 Unwrapped and Ready for More Testing',\n",
       "  'Description': \"In time-lapse video, bunny-suited engineers remove the inner layer of protective foil on NASA's Mars 2020 rover after it was relocated for testing.\"}]"
      ]
     },
     "execution_count": 6,
     "metadata": {},
     "output_type": "execute_result"
    }
   ],
   "source": [
    "mars_news()"
   ]
  },
  {
   "cell_type": "markdown",
   "metadata": {},
   "source": [
    "# JPL Mars Space Images - Featured Image"
   ]
  },
  {
   "cell_type": "code",
   "execution_count": 7,
   "metadata": {},
   "outputs": [],
   "source": [
    "# Define function to scapr Mars featured image\n",
    "def mars_image():\n",
    "    browser = init_browser()\n",
    "\n",
    "# Visit URL\n",
    "    jpl_url =\"https://www.jpl.nasa.gov/spaceimages/?search=&category=Mars\"\n",
    "    browser.visit(jpl_url)\n",
    "\n",
    "# Scrape page into soup\n",
    "    html = browser.html\n",
    "    soup = bs(html, 'html.parser')\n",
    "    \n",
    "# Find image URL and format accordingly\n",
    "    featured_img_url_raw = soup.find(\"div\", class_=\"carousel_items\").find(\"article\")[\"style\"]\n",
    "    featured_img_url_raw = featured_img_url_raw.split(\"'\")[1]\n",
    "    \n",
    "    base_url= \"https://www.jpl.nasa.gov\"\n",
    "    featured_img_url= base_url + featured_img_url_raw\n",
    "    \n",
    "    browser.quit()\n",
    "    \n",
    "    return featured_img_url"
   ]
  },
  {
   "cell_type": "code",
   "execution_count": 8,
   "metadata": {},
   "outputs": [
    {
     "data": {
      "text/plain": [
       "'https://www.jpl.nasa.gov/spaceimages/images/wallpaper/PIA00063-1920x1200.jpg'"
      ]
     },
     "execution_count": 8,
     "metadata": {},
     "output_type": "execute_result"
    }
   ],
   "source": [
    "mars_image()"
   ]
  },
  {
   "cell_type": "markdown",
   "metadata": {},
   "source": [
    "# Mars Weather"
   ]
  },
  {
   "cell_type": "code",
   "execution_count": 23,
   "metadata": {},
   "outputs": [],
   "source": [
    "# Define function to scrape Mars weather\n",
    "def mars_weather():\n",
    "    browser = init_browser()\n",
    "\n",
    "# Visit URL\n",
    "    twitter_url =\"https://twitter.com/marswxreport?lang=en\"\n",
    "    browser.visit(twitter_url)\n",
    "\n",
    "# Scrape page into soup\n",
    "    html = browser.html\n",
    "    soup = bs(html, 'html.parser')\n",
    "\n",
    "# Get the Mars weather tweet text\n",
    "    mars_weather_data = (soup.find(class_=\"tweet-text\")).get_text()\n",
    "    mars_weather_data = mars_weather_data.replace('\\n', ' ').replace('pic',',').split(\",\")[0]\n",
    "    \n",
    "    browser.quit()\n",
    "    \n",
    "    return mars_weather_data"
   ]
  },
  {
   "cell_type": "code",
   "execution_count": 24,
   "metadata": {},
   "outputs": [
    {
     "data": {
      "text/plain": [
       "'InSight sol 317 (2019-10-18) low -103.2ºC (-153.8ºF) high -26.2ºC (-15.2ºF) winds from the SSE at 5.6 m/s (12.5 mph) gusting to 22.2 m/s (49.7 mph) pressure at 7.10 hPa'"
      ]
     },
     "execution_count": 24,
     "metadata": {},
     "output_type": "execute_result"
    }
   ],
   "source": [
    "mars_weather()"
   ]
  },
  {
   "cell_type": "markdown",
   "metadata": {},
   "source": [
    "# Mars Facts"
   ]
  },
  {
   "cell_type": "code",
   "execution_count": 81,
   "metadata": {},
   "outputs": [],
   "source": [
    "# Define a function to scrape Mars facts\n",
    "def mars_facts():\n",
    "    browser = init_browser()\n",
    "    \n",
    "    facts_url=\"https://space-facts.com/mars/\"\n",
    "\n",
    "# Scrape table into pandas\n",
    "    table = pd.read_html(facts_url)\n",
    "    stats_table=table[1]\n",
    "\n",
    "# Convert table info ibto HTML\n",
    "    stats_html=stats_table.to_html(header=False, index=False).replace('\\n', '')\n",
    "    \n",
    "    browser.quit()\n",
    "    \n",
    "    return stats_html"
   ]
  },
  {
   "cell_type": "code",
   "execution_count": 82,
   "metadata": {},
   "outputs": [
    {
     "data": {
      "text/plain": [
       "'<table border=\"1\" class=\"dataframe\">  <tbody>    <tr>      <td>Equatorial Diameter:</td>      <td>6,792 km</td>    </tr>    <tr>      <td>Polar Diameter:</td>      <td>6,752 km</td>    </tr>    <tr>      <td>Mass:</td>      <td>6.39 × 10^23 kg (0.11 Earths)</td>    </tr>    <tr>      <td>Moons:</td>      <td>2 (Phobos &amp; Deimos)</td>    </tr>    <tr>      <td>Orbit Distance:</td>      <td>227,943,824 km (1.38 AU)</td>    </tr>    <tr>      <td>Orbit Period:</td>      <td>687 days (1.9 years)</td>    </tr>    <tr>      <td>Surface Temperature:</td>      <td>-87 to -5 °C</td>    </tr>    <tr>      <td>First Record:</td>      <td>2nd millennium BC</td>    </tr>    <tr>      <td>Recorded By:</td>      <td>Egyptian astronomers</td>    </tr>  </tbody></table>'"
      ]
     },
     "execution_count": 82,
     "metadata": {},
     "output_type": "execute_result"
    }
   ],
   "source": [
    "mars_facts()"
   ]
  },
  {
   "cell_type": "markdown",
   "metadata": {},
   "source": [
    "# Mars Hemispheres"
   ]
  },
  {
   "cell_type": "code",
   "execution_count": 83,
   "metadata": {},
   "outputs": [],
   "source": [
    "# Define funtion to find Mars hemispheres info\n",
    "def mars_hemispheres():\n",
    "    browser = init_browser()\n",
    "\n",
    "# Visit URL\n",
    "    hemisphere_url =\"https://astrogeology.usgs.gov/search/results?q=hemisphere+enhanced&k1=target&v1=Mars\"\n",
    "    browser.visit(hemisphere_url)\n",
    "\n",
    "# Scrape page into soup\n",
    "    html = browser.html\n",
    "    soup = bs(html, 'html.parser')\n",
    "\n",
    "# Create a list to hold hemisphere names and append names to list\n",
    "    hemi_names=[]\n",
    "    links=soup.find_all('h3')\n",
    "\n",
    "    for hemi in links:\n",
    "        hemi_names.append(hemi.text)\n",
    "\n",
    "# Create a list to hold hemisphere names and URL's\n",
    "    hemi_urls=[]\n",
    "\n",
    "# Visit each hemisphere site and append to the dict...append dict to list\n",
    "    for hemi in hemi_names:\n",
    "        hemi_dict ={}\n",
    "        browser.click_link_by_partial_text(hemi)\n",
    "        hemi_dict['title'] = hemi\n",
    "        hemi_dict['img_url'] = browser.find_by_text('Sample')['href']\n",
    "        hemi_urls.append(hemi_dict)\n",
    "        browser.back()\n",
    "        \n",
    "    browser.quit()\n",
    "\n",
    "    return hemi_urls"
   ]
  },
  {
   "cell_type": "code",
   "execution_count": 84,
   "metadata": {},
   "outputs": [
    {
     "data": {
      "text/plain": [
       "[{'title': 'Cerberus Hemisphere Enhanced',\n",
       "  'img_url': 'http://astropedia.astrogeology.usgs.gov/download/Mars/Viking/cerberus_enhanced.tif/full.jpg'},\n",
       " {'title': 'Schiaparelli Hemisphere Enhanced',\n",
       "  'img_url': 'http://astropedia.astrogeology.usgs.gov/download/Mars/Viking/schiaparelli_enhanced.tif/full.jpg'},\n",
       " {'title': 'Syrtis Major Hemisphere Enhanced',\n",
       "  'img_url': 'http://astropedia.astrogeology.usgs.gov/download/Mars/Viking/syrtis_major_enhanced.tif/full.jpg'},\n",
       " {'title': 'Valles Marineris Hemisphere Enhanced',\n",
       "  'img_url': 'http://astropedia.astrogeology.usgs.gov/download/Mars/Viking/valles_marineris_enhanced.tif/full.jpg'}]"
      ]
     },
     "execution_count": 84,
     "metadata": {},
     "output_type": "execute_result"
    }
   ],
   "source": [
    "mars_hemispheres()"
   ]
  },
  {
   "cell_type": "code",
   "execution_count": 87,
   "metadata": {},
   "outputs": [],
   "source": [
    "# Define a function that scrapes all Mars info\n",
    "def scrape():\n",
    "    \n",
    "    mars_news_scrape=mars_news()\n",
    "    mars_image_scrape=mars_image()\n",
    "    mars_weather_scrape=mars_weather()\n",
    "    mars_facts_scrape=mars_facts()\n",
    "    mars_hemispheres_scrape=mars_hemispheres()\n",
    "\n",
    "# Define a mars_info dict to hold all information from the scrape\n",
    "    mars_info={'Mars_News': mars_news_scrape,\n",
    "               'Featured_Image': mars_image_scrape,\n",
    "               'Mars_Weather': mars_weather_scrape,\n",
    "               'Mars_Facts': mars_facts_scrape,\n",
    "               'Mars_Hemispheres': mars_hemispheres_scrape\n",
    "              }\n",
    "    return mars_info"
   ]
  },
  {
   "cell_type": "code",
   "execution_count": 88,
   "metadata": {},
   "outputs": [
    {
     "data": {
      "text/plain": [
       "{'Mars_News': [{'Title': 'Mars 2020 Unwrapped and Ready for More Testing',\n",
       "   'Description': \"In time-lapse video, bunny-suited engineers remove the inner layer of protective foil on NASA's Mars 2020 rover after it was relocated for testing.\"}],\n",
       " 'Featured_Image': 'https://www.jpl.nasa.gov/spaceimages/images/wallpaper/PIA19092-1920x1200.jpg',\n",
       " 'Mars_Weather': 'InSight sol 317 (2019-10-18) low -103.2ºC (-153.8ºF) high -26.2ºC (-15.2ºF)\\nwinds from the SSE at 5.6 m/s (12.5 mph) gusting to 22.2 m/s (49.7 mph)\\npressure at 7.10 hPapic.twitter.com/LNDEvGwVDw',\n",
       " 'Mars_Facts': '<table border=\"1\" class=\"dataframe\">  <tbody>    <tr>      <td>Equatorial Diameter:</td>      <td>6,792 km</td>    </tr>    <tr>      <td>Polar Diameter:</td>      <td>6,752 km</td>    </tr>    <tr>      <td>Mass:</td>      <td>6.39 × 10^23 kg (0.11 Earths)</td>    </tr>    <tr>      <td>Moons:</td>      <td>2 (Phobos &amp; Deimos)</td>    </tr>    <tr>      <td>Orbit Distance:</td>      <td>227,943,824 km (1.38 AU)</td>    </tr>    <tr>      <td>Orbit Period:</td>      <td>687 days (1.9 years)</td>    </tr>    <tr>      <td>Surface Temperature:</td>      <td>-87 to -5 °C</td>    </tr>    <tr>      <td>First Record:</td>      <td>2nd millennium BC</td>    </tr>    <tr>      <td>Recorded By:</td>      <td>Egyptian astronomers</td>    </tr>  </tbody></table>',\n",
       " 'Mars_Hemispheres': [{'title': 'Cerberus Hemisphere Enhanced',\n",
       "   'img_url': 'http://astropedia.astrogeology.usgs.gov/download/Mars/Viking/cerberus_enhanced.tif/full.jpg'},\n",
       "  {'title': 'Schiaparelli Hemisphere Enhanced',\n",
       "   'img_url': 'http://astropedia.astrogeology.usgs.gov/download/Mars/Viking/schiaparelli_enhanced.tif/full.jpg'},\n",
       "  {'title': 'Syrtis Major Hemisphere Enhanced',\n",
       "   'img_url': 'http://astropedia.astrogeology.usgs.gov/download/Mars/Viking/syrtis_major_enhanced.tif/full.jpg'},\n",
       "  {'title': 'Valles Marineris Hemisphere Enhanced',\n",
       "   'img_url': 'http://astropedia.astrogeology.usgs.gov/download/Mars/Viking/valles_marineris_enhanced.tif/full.jpg'}]}"
      ]
     },
     "execution_count": 88,
     "metadata": {},
     "output_type": "execute_result"
    }
   ],
   "source": [
    "scrape()"
   ]
  },
  {
   "cell_type": "code",
   "execution_count": null,
   "metadata": {},
   "outputs": [],
   "source": []
  }
 ],
 "metadata": {
  "kernelspec": {
   "display_name": "Python 3",
   "language": "python",
   "name": "python3"
  },
  "language_info": {
   "codemirror_mode": {
    "name": "ipython",
    "version": 3
   },
   "file_extension": ".py",
   "mimetype": "text/x-python",
   "name": "python",
   "nbconvert_exporter": "python",
   "pygments_lexer": "ipython3",
   "version": "3.7.3"
  }
 },
 "nbformat": 4,
 "nbformat_minor": 2
}
